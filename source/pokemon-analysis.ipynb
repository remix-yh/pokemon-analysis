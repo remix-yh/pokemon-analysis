{
 "cells": [
  {
   "cell_type": "code",
   "execution_count": 20,
   "metadata": {},
   "outputs": [
    {
     "name": "stdout",
     "output_type": "stream",
     "text": [
      "ステータス最大ポケモン： アルセウス\n",
      "ステータス最小ポケモン： ヨワシ\n"
     ]
    },
    {
     "data": {
      "image/png": "[encoded data removed]",
      "text/plain": [
       "<Figure size 432x288 with 1 Axes>"
      ]
     },
     "metadata": {
      "needs_background": "light"
     },
     "output_type": "display_data"
    }
   ],
   "source": [
    "import csv\n",
    "import matplotlib.pyplot as plt\n",
    "%matplotlib inline\n",
    "\n",
    "# 定数\n",
    "COLUMN_NAME_NO = '図鑑番号'\n",
    "COLUMN_NAME_POKEMON_NAME = 'ポケモン名'\n",
    "COLUMN_NAME_POKEMON_TYPE_1 = 'タイプ１'\n",
    "COLUMN_NAME_POKEMON_TYPE_2 = 'タイプ２'\n",
    "COLUMN_NAME_POKEMON_TOTAL = '合計'\n",
    "\n",
    "def read_pokemon_status_list(file_path):\n",
    "    with open(file_path) as f:\n",
    "        reader = csv.DictReader(f)\n",
    "        status_list = [row for row in reader]\n",
    "    return status_list\n",
    "\n",
    "def get_pokemon_status_list_without_megasinka(pokemon_status_list):\n",
    "    return [pokemon_status for pokemon_status in pokemon_status_list if not '-' in pokemon_status[COLUMN_NAME_NO]]\n",
    "\n",
    "def get_max_status_pokemon(pokemon_status_list):\n",
    "    pokemon_status_list_filterd = [status for status in pokemon_status_list if status[COLUMN_NAME_POKEMON_TOTAL] != '']\n",
    "    return max(pokemon_status_list_filterd, key=lambda pokemon_status: int(pokemon_status[COLUMN_NAME_POKEMON_TOTAL]))\n",
    "\n",
    "def get_min_status_pokemon(pokemon_status_list):\n",
    "    pokemon_status_list_filterd = [status for status in pokemon_status_list if status[COLUMN_NAME_POKEMON_TOTAL] != '']\n",
    "    return min(pokemon_status_list_filterd, key=lambda pokemon_status: int(pokemon_status[COLUMN_NAME_POKEMON_TOTAL]))\n",
    "\n",
    "def get_type_count_dict(pokemon_status_list):\n",
    "    pokemon_type_dict = {}\n",
    "    for pokemon_status in pokemon_status_list_without_megasinka:\n",
    "        if pokemon_status[COLUMN_NAME_POKEMON_TYPE_1] == '':\n",
    "            continue\n",
    "        if not pokemon_status[COLUMN_NAME_POKEMON_TYPE_1] in pokemon_type_dict:\n",
    "            pokemon_type_dict[pokemon_status[COLUMN_NAME_POKEMON_TYPE_1]] = 0\n",
    "\n",
    "        pokemon_type_dict[pokemon_status[COLUMN_NAME_POKEMON_TYPE_1]] += 1\n",
    "\n",
    "    for pokemon_status in pokemon_status_list_without_megasinka:\n",
    "        if pokemon_status[COLUMN_NAME_POKEMON_TYPE_2] == '':\n",
    "            continue\n",
    "        if not pokemon_status[COLUMN_NAME_POKEMON_TYPE_2] in pokemon_type_dict:\n",
    "            pokemon_type_dict[pokemon_status[COLUMN_NAME_POKEMON_TYPE_2]] = 0\n",
    "    \n",
    "        pokemon_type_dict[pokemon_status[COLUMN_NAME_POKEMON_TYPE_2]] += 1\n",
    "    \n",
    "    return pokemon_type_dict\n",
    "\n",
    "# CSV読込\n",
    "pokemon_status_list = read_pokemon_status_list('../dataset/pokemon_status.csv')\n",
    "pokemon_status_list_without_megasinka = get_pokemon_status_list_without_megasinka(pokemon_status_list)\n",
    "\n",
    "# ステータス最大ポケモン表示\n",
    "max_status_pokemon = get_max_status_pokemon(pokemon_status_list_without_megasinka)\n",
    "print(f'ステータス最大ポケモン： {max_status_pokemon[COLUMN_NAME_POKEMON_NAME]}')\n",
    "\n",
    "# ステータス最小ポケモン表示\n",
    "min_status_pokemon = get_min_status_pokemon(pokemon_status_list_without_megasinka)\n",
    "print(f'ステータス最小ポケモン： {min_status_pokemon[COLUMN_NAME_POKEMON_NAME]}')\n",
    "\n",
    "# タイプ数のグラフ表示\n",
    "type_count_dict = get_type_count_dict(pokemon_status_list_without_megasinka)\n",
    "\n",
    "plt.rcParams['font.family'] = 'IPAexGothic'\n",
    "names = list(type_count_dict.keys())\n",
    "values = list(type_count_dict.values())\n",
    "\n",
    "plt.bar(range(len(type_count_dict)),values,tick_label=names)\n",
    "\n",
    "plt.xticks(rotation=90)\n",
    "plt.show()"
   ]
  },
  {
   "cell_type": "code",
   "execution_count": null,
   "metadata": {},
   "outputs": [],
   "source": []
  }
 ],
 "metadata": {
  "kernelspec": {
   "display_name": "Python 3",
   "language": "python",
   "name": "python3"
  },
  "language_info": {
   "codemirror_mode": {
    "name": "ipython",
    "version": 3
   },
   "file_extension": ".py",
   "mimetype": "text/x-python",
   "name": "python",
   "nbconvert_exporter": "python",
   "pygments_lexer": "ipython3",
   "version": "3.7.4"
  }
 },
 "nbformat": 4,
 "nbformat_minor": 4
}
